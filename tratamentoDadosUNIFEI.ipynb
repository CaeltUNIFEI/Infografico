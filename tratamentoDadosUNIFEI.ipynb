{
  "nbformat": 4,
  "nbformat_minor": 0,
  "metadata": {
    "colab": {
      "provenance": [],
      "collapsed_sections": [
        "btWEWFzwwkoe"
      ],
      "mount_file_id": "1EcI_n0jGogSv55ngX4vqSVFsitV_Pbe_",
      "authorship_tag": "ABX9TyMYPhXjWYDNTjGuwCeTqldD",
      "include_colab_link": true
    },
    "kernelspec": {
      "name": "python3",
      "display_name": "Python 3"
    },
    "language_info": {
      "name": "python"
    }
  },
  "cells": [
    {
      "cell_type": "markdown",
      "metadata": {
        "id": "view-in-github",
        "colab_type": "text"
      },
      "source": [
        "<a href=\"https://colab.research.google.com/github/CaeltUNIFEI/Infografico/blob/main/tratamentoDadosUNIFEI.ipynb\" target=\"_parent\"><img src=\"https://colab.research.google.com/assets/colab-badge.svg\" alt=\"Open In Colab\"/></a>"
      ]
    },
    {
      "cell_type": "markdown",
      "source": [
        "# Inicialização"
      ],
      "metadata": {
        "id": "uyO2034jwzwG"
      }
    },
    {
      "cell_type": "code",
      "execution_count": null,
      "metadata": {
        "id": "DS-TusbttwgG"
      },
      "outputs": [],
      "source": [
        "import numpy as np\n",
        "import pandas as pd\n",
        "from datetime import datetime, date, timedelta\n",
        "pd.set_option('display.max_columns', 500)\n",
        "\n",
        "quantidadeLinhasExcluidas = 0"
      ]
    },
    {
      "cell_type": "code",
      "source": [
        "dados = pd.read_csv('/content/drive/MyDrive/censoUNIFEI/Censo UNIFEI.csv', sep=',', encoding='utf-8')"
      ],
      "metadata": {
        "id": "kTR8SVzLt9RT"
      },
      "execution_count": null,
      "outputs": []
    },
    {
      "cell_type": "markdown",
      "source": [
        "# Extração e limpeza dos dados"
      ],
      "metadata": {
        "id": "btWEWFzwwkoe"
      }
    },
    {
      "cell_type": "code",
      "source": [
        "dados1 = dados.drop(columns=['Carimbo de data/hora', 'Termo de Consentimento e Livre Esclarecimento:'], )\n",
        "dados1 = dados1.rename(columns={'Data de nascimento:' : 'dataNascimento', 'Sexo:' : 'sexo', 'Orientação sexual:' : 'orientacaoSexual', 'Etinia ou cor:' : 'etnia/cor', 'Religião:' : 'religiao', 'Município de nascimento:' : 'municipioNascimento', 'Unidade Federativa: ' : 'UF', 'Curso:' : 'curso', 'Data de ingresso:' : 'dataIngresso', 'Cursou o ensino médio em:' : 'EM', 'Na forma de ingresso, você utilizou qual categoria?' : 'categoriaIngresso', 'Caso tenha utilizado a cota, qual grupo você selecionou?' : 'grupoCota', 'Já trancou o curso?' : 'trancouCurso', 'Mora em República?' : 'republica', 'Você possui acesso a serviços básicos como água encanada, energia elétrica e coleta de lixo?' : 'servicosBasicos', 'Você trabalha?' : 'trabalha', 'se você trabalha, você tem acesso a benefícios como plano de saúde ou vale-refeição no seu trabalho?' : 'beneficiosTrabalho', 'Qual é a renda total mensal de sua família, considerando todas as fontes de renda, incluindo salários, aposentadorias, pensões, benefícios sociais, entre outros?' : 'rendaMensal', 'Quantas pessoas contribuem para a renda da sua família?' : 'contribuintes', 'Você ou sua família possuem dívidas ou empréstimos? ' : 'dividas/emprestimos', 'Recebe auxílio da UNIFEI?' : 'recebeAuxilio', 'Se recebe auxílio da UNIFEI, qual é?' : 'qualAuxilio', 'O que acha do preço do Restaurante Universitário da UNIFEI?' : 'precoRU', 'O que acha do suporte socioeconômico da UNIFEI?' : 'suporteSocioeconomico', 'Justifique a resposta anterior' : 'justifique', 'Utiliza de assistência da DAE?' : 'assistenciaDAE', 'Possui alguma necessidade física ou psicológica?' : 'possuiNecessidade', 'Se possui alguma necessidade física ou psicológica, qual(is) é(são)?' : 'qualNecessidade'})\n"
      ],
      "metadata": {
        "id": "SW-DC24R4OG-"
      },
      "execution_count": null,
      "outputs": []
    },
    {
      "cell_type": "code",
      "source": [
        "dados1['sexo'] = dados1['sexo'].replace({'Femenino' : 'Feminino'})"
      ],
      "metadata": {
        "id": "ZyWFbl7UDcGG"
      },
      "execution_count": null,
      "outputs": []
    },
    {
      "cell_type": "markdown",
      "source": [
        "# Transformação dos dados"
      ],
      "metadata": {
        "id": "sLEjvizxXMkv"
      }
    },
    {
      "cell_type": "markdown",
      "source": [
        "Idade (em anos)"
      ],
      "metadata": {
        "id": "-VnX0UAfYSdJ"
      }
    },
    {
      "cell_type": "code",
      "source": [
        "idadeArray = []\n",
        "\n",
        "for data in dados1['dataNascimento']:\n",
        "  idade = int(((date.today() - datetime.strptime(data, '%Y-%m-%d').date()).days)/365)\n",
        "  idadeArray.append(idade)\n",
        "\n",
        "dados1.insert(loc= 1, column= 'idade', value=idadeArray)\n"
      ],
      "metadata": {
        "id": "qHpkR_MgQFC1"
      },
      "execution_count": null,
      "outputs": []
    },
    {
      "cell_type": "markdown",
      "source": [
        "Data de ingresso"
      ],
      "metadata": {
        "id": "yAm_rbAfYVVo"
      }
    },
    {
      "cell_type": "code",
      "source": [
        "tempoArrayAnos = []\n",
        "\n",
        "for data in dados1['dataIngresso']:\n",
        "  tempo = (date.today() - datetime.strptime(data, '%Y-%m-%d').date())\n",
        "  tempoAnos = round(tempo.days / 365, 2)\n",
        "\n",
        "  tempoAnos = np.around(tempoAnos / 0.5) * 0.5\n",
        "  tempoArrayAnos.append(tempoAnos)\n",
        "\n",
        "dados1.insert(loc= 10, column= 'tempoNaUnifeiEmAnos', value=tempoArrayAnos)"
      ],
      "metadata": {
        "id": "hdrt8XOQYoi1"
      },
      "execution_count": null,
      "outputs": []
    },
    {
      "cell_type": "code",
      "source": [
        "print(f\"Linha(s) removida(s): {dados1.query('idade < 18').shape[0]}\")\n",
        "dados1.drop(dados1[dados1['idade'] < 18].index, inplace=True) #Remove a linha onde a idade é menor que 18 anos\n",
        "\n",
        "#print(f\"Linha(s) removida(s): {dados1.query('tempoNaUnifeiEmAnos > 15').shape[0]}\")\n",
        "#dados1.drop(dados1[dados1['tempoNaUnifeiEmAnos'] > 15].index, inplace=True)"
      ],
      "metadata": {
        "id": "xSLNaf9FDxRn",
        "colab": {
          "base_uri": "https://localhost:8080/"
        },
        "outputId": "f3ea0f40-cbc5-4da5-fb41-39ac964176db"
      },
      "execution_count": null,
      "outputs": [
        {
          "output_type": "stream",
          "name": "stdout",
          "text": [
            "Linha(s) removida(s): 1\n",
            "Linha(s) removida(s): 1\n"
          ]
        }
      ]
    },
    {
      "cell_type": "markdown",
      "source": [
        "# Contagem dos dados"
      ],
      "metadata": {
        "id": "t_p2hCPE4kIk"
      }
    },
    {
      "cell_type": "code",
      "source": [
        "contagemIdade = dados1['idade'].value_counts().sort_index()\n",
        "contagemSexo = dados1['sexo'].value_counts()\n",
        "contagemOrientacao = dados1['orientacaoSexual'].value_counts()\n",
        "contagemEtnia = dados1['etnia/cor'].value_counts()\n",
        "contagemUF = dados1['UF'].value_counts()\n",
        "contagemTempoUnifei = dados1['tempoNaUnifeiEmAnos'].value_counts().sort_index()"
      ],
      "metadata": {
        "id": "zrJ0s6rEzMz7"
      },
      "execution_count": null,
      "outputs": []
    },
    {
      "cell_type": "code",
      "source": [
        "respostas = dados1['religiao']\n",
        "\n",
        "mapeamento = {\n",
        "    \"ateísta\": \"Ateu\", \"ateu\": \"Ateu\",\n",
        "    \"agnóstico\": \"Agnóstico\",\n",
        "    \"católico\": \"Católico\", \"catolica\": \"Católico\", \"catolicismo\": \"Católico\", \"católica\": \"Católico\", \"catolico\" : \"Católico\",\n",
        "    \"evangélico\": \"Evangélico\", \"evangélica\": \"Evangélico\", \"cristão protestante\": \"Evangélico\", \"cristã/evangélica\": \"Evangélico\",\n",
        "    \"espiritismo\": \"Espiritismo\",\n",
        "    \"cristão\" : \"Cristão\",\n",
        "    \"nenhuma\": \"Sem religião\", \"não aplica\": \"Sem religião\", \"não possuo\": \"Sem religião\", \"não possuo religião.\": \"Sem religião\", \"nao tenho\": \"Sem religião\", \"desvinculado\": \"Sem religião\", \"não tenho\" : \"Sem religião\", \"não possuo religião\" : \"Sem religião\", \"sem religião\" : \"Sem religião\", \"não sei\" : \"Sem religião\",\n",
        "}\n",
        "\n",
        "def normalizar_respostas(resposta):\n",
        "    resposta = resposta.strip().lower()\n",
        "    return mapeamento.get(resposta, '[ERRO]')\n",
        "\n",
        "dados1['religiao'] = dados1['religiao'].apply(normalizar_respostas)\n",
        "contagemReligiao = dados1['religiao'].value_counts()"
      ],
      "metadata": {
        "id": "tB3hROyiNN8Q"
      },
      "execution_count": null,
      "outputs": []
    },
    {
      "cell_type": "code",
      "source": [
        "print(\"Linha(s) removida(s): \" + str(dados1.query('religiao == \"Cristão\"').shape[0]))\n",
        "dados1.drop(dados1[dados1['religiao'] == 'Cristão'].index, inplace=True)"
      ],
      "metadata": {
        "id": "EleupQUar6Z2",
        "colab": {
          "base_uri": "https://localhost:8080/"
        },
        "outputId": "58ddee52-88d3-41d8-cdf5-296567aa74d0"
      },
      "execution_count": null,
      "outputs": [
        {
          "output_type": "stream",
          "name": "stdout",
          "text": [
            "Linha(s) removida(s): 2\n"
          ]
        }
      ]
    },
    {
      "cell_type": "code",
      "source": [
        "dados1.to_csv('/content/drive/MyDrive/censoUNIFEI/dadosLimpos.csv', sep=',', index=False, encoding='utf-8', decimal='.')\n",
        "\n",
        "quantidadeLinhasExcluidas = dados.shape[0] - dados1.shape[0]\n",
        "\n",
        "#Nao precisa adicionar +1 por causa do indice 0, ele retorna corretamente.\n",
        "print(f\"Quantidades de \\\"Entrevistados\\\": {dados.shape[0]}\")\n",
        "print(f\"Quantidades de linhas excluidas: {quantidadeLinhasExcluidas}\")\n",
        "print(dados1.shape[0])"
      ],
      "metadata": {
        "id": "SuLkPOxwwigl"
      },
      "execution_count": null,
      "outputs": []
    }
  ]
}